{
 "cells": [
  {
   "cell_type": "code",
   "execution_count": 1,
   "metadata": {},
   "outputs": [],
   "source": [
    "import numpy as np\n",
    "\n",
    "# 生成随机的日期数据\n",
    "np.random.seed(0)\n",
    "days = np.arange(1, 31)\n",
    "sales = 100 + 2 * days + np.random.normal(0, 10, len(days))"
   ]
  },
  {
   "cell_type": "code",
   "execution_count": 2,
   "metadata": {},
   "outputs": [
    {
     "data": {
      "text/plain": [
       "array([ 1,  2,  3,  4,  5,  6,  7,  8,  9, 10, 11, 12, 13, 14, 15, 16, 17,\n",
       "       18, 19, 20, 21, 22, 23, 24, 25, 26, 27, 28, 29, 30])"
      ]
     },
     "execution_count": 2,
     "metadata": {},
     "output_type": "execute_result"
    }
   ],
   "source": [
    "days"
   ]
  },
  {
   "cell_type": "code",
   "execution_count": 3,
   "metadata": {},
   "outputs": [
    {
     "data": {
      "text/plain": [
       "array([119.64052346, 108.00157208, 115.78737984, 130.40893199,\n",
       "       128.6755799 , 102.2272212 , 123.50088418, 114.48642792,\n",
       "       116.96781148, 124.10598502, 123.44043571, 138.54273507,\n",
       "       133.61037725, 129.21675016, 134.43863233, 135.33674327,\n",
       "       148.94079073, 133.94841736, 141.13067702, 131.45904261,\n",
       "       116.47010184, 150.53618595, 154.64436199, 140.5783498 ,\n",
       "       172.69754624, 137.45634325, 154.45758517, 154.1281615 ,\n",
       "       173.32779214, 174.6935877 ])"
      ]
     },
     "execution_count": 3,
     "metadata": {},
     "output_type": "execute_result"
    }
   ],
   "source": [
    "sales"
   ]
  },
  {
   "cell_type": "code",
   "execution_count": 5,
   "metadata": {},
   "outputs": [
    {
     "name": "stderr",
     "output_type": "stream",
     "text": [
      "c:\\Software\\Anaconda\\lib\\site-packages\\sklearn\\gaussian_process\\kernels.py:430: ConvergenceWarning: The optimal value found for dimension 0 of parameter k1__constant_value is close to the specified upper bound 1000.0. Increasing the bound and calling fit again may find a better value.\n",
      "  warnings.warn(\n"
     ]
    },
    {
     "data": {
      "text/plain": [
       "GaussianProcessRegressor(kernel=1**2 * RBF(length_scale=1),\n",
       "                         n_restarts_optimizer=10)"
      ]
     },
     "execution_count": 5,
     "metadata": {},
     "output_type": "execute_result"
    }
   ],
   "source": [
    "from sklearn.gaussian_process import GaussianProcessRegressor\n",
    "from sklearn.gaussian_process.kernels import RBF, ConstantKernel as C\n",
    "\n",
    "# 定义高斯过程回归模型\n",
    "kernel = C(1.0, (1e-3, 1e3)) * RBF(1.0, (1e-2, 1e2))\n",
    "gp = GaussianProcessRegressor(kernel=kernel, n_restarts_optimizer=10)\n",
    "\n",
    "# 训练模型\n",
    "X = days.reshape(-1, 1)\n",
    "y = sales\n",
    "gp.fit(X, y)"
   ]
  },
  {
   "cell_type": "code",
   "execution_count": 7,
   "metadata": {},
   "outputs": [
    {
     "data": {
      "text/plain": [
       "array([[ 1.        ],\n",
       "       [ 1.29292929],\n",
       "       [ 1.58585859],\n",
       "       [ 1.87878788],\n",
       "       [ 2.17171717],\n",
       "       [ 2.46464646],\n",
       "       [ 2.75757576],\n",
       "       [ 3.05050505],\n",
       "       [ 3.34343434],\n",
       "       [ 3.63636364],\n",
       "       [ 3.92929293],\n",
       "       [ 4.22222222],\n",
       "       [ 4.51515152],\n",
       "       [ 4.80808081],\n",
       "       [ 5.1010101 ],\n",
       "       [ 5.39393939],\n",
       "       [ 5.68686869],\n",
       "       [ 5.97979798],\n",
       "       [ 6.27272727],\n",
       "       [ 6.56565657],\n",
       "       [ 6.85858586],\n",
       "       [ 7.15151515],\n",
       "       [ 7.44444444],\n",
       "       [ 7.73737374],\n",
       "       [ 8.03030303],\n",
       "       [ 8.32323232],\n",
       "       [ 8.61616162],\n",
       "       [ 8.90909091],\n",
       "       [ 9.2020202 ],\n",
       "       [ 9.49494949],\n",
       "       [ 9.78787879],\n",
       "       [10.08080808],\n",
       "       [10.37373737],\n",
       "       [10.66666667],\n",
       "       [10.95959596],\n",
       "       [11.25252525],\n",
       "       [11.54545455],\n",
       "       [11.83838384],\n",
       "       [12.13131313],\n",
       "       [12.42424242],\n",
       "       [12.71717172],\n",
       "       [13.01010101],\n",
       "       [13.3030303 ],\n",
       "       [13.5959596 ],\n",
       "       [13.88888889],\n",
       "       [14.18181818],\n",
       "       [14.47474747],\n",
       "       [14.76767677],\n",
       "       [15.06060606],\n",
       "       [15.35353535],\n",
       "       [15.64646465],\n",
       "       [15.93939394],\n",
       "       [16.23232323],\n",
       "       [16.52525253],\n",
       "       [16.81818182],\n",
       "       [17.11111111],\n",
       "       [17.4040404 ],\n",
       "       [17.6969697 ],\n",
       "       [17.98989899],\n",
       "       [18.28282828],\n",
       "       [18.57575758],\n",
       "       [18.86868687],\n",
       "       [19.16161616],\n",
       "       [19.45454545],\n",
       "       [19.74747475],\n",
       "       [20.04040404],\n",
       "       [20.33333333],\n",
       "       [20.62626263],\n",
       "       [20.91919192],\n",
       "       [21.21212121],\n",
       "       [21.50505051],\n",
       "       [21.7979798 ],\n",
       "       [22.09090909],\n",
       "       [22.38383838],\n",
       "       [22.67676768],\n",
       "       [22.96969697],\n",
       "       [23.26262626],\n",
       "       [23.55555556],\n",
       "       [23.84848485],\n",
       "       [24.14141414],\n",
       "       [24.43434343],\n",
       "       [24.72727273],\n",
       "       [25.02020202],\n",
       "       [25.31313131],\n",
       "       [25.60606061],\n",
       "       [25.8989899 ],\n",
       "       [26.19191919],\n",
       "       [26.48484848],\n",
       "       [26.77777778],\n",
       "       [27.07070707],\n",
       "       [27.36363636],\n",
       "       [27.65656566],\n",
       "       [27.94949495],\n",
       "       [28.24242424],\n",
       "       [28.53535354],\n",
       "       [28.82828283],\n",
       "       [29.12121212],\n",
       "       [29.41414141],\n",
       "       [29.70707071],\n",
       "       [30.        ]])"
      ]
     },
     "execution_count": 7,
     "metadata": {},
     "output_type": "execute_result"
    }
   ],
   "source": [
    "import matplotlib.pyplot as plt\n",
    "\n",
    "# 生成一组测试数据\n",
    "X_test = np.linspace(1, 30, 100).reshape(-1, 1)\n",
    "X_test"
   ]
  },
  {
   "cell_type": "code",
   "execution_count": 8,
   "metadata": {},
   "outputs": [
    {
     "data": {
      "text/plain": [
       "array([119.64052346, 117.21812881, 112.64800263, 108.8549947 ,\n",
       "       107.67190592, 109.27135361, 112.60143581, 116.45668353,\n",
       "       120.35948711, 124.57433361, 129.27107601, 133.58890043,\n",
       "       135.53253134, 133.04524065, 125.64093718, 115.38111361,\n",
       "       106.27769289, 102.25724537, 104.89440175, 112.40249443,\n",
       "       120.60365603, 125.30604156, 124.60392267, 119.71391558,\n",
       "       113.95897065, 110.68255725, 111.43355539, 115.4199062 ,\n",
       "       120.33189845, 123.83500088, 124.79672295, 123.65904187,\n",
       "       121.9540484 , 121.39074996, 123.0285569 , 126.86729115,\n",
       "       131.91932383, 136.64226287, 139.53961769, 139.73517798,\n",
       "       137.34139263, 133.47028917, 129.81991098, 127.93835082,\n",
       "       128.47180798, 130.80912007, 133.40783936, 134.71899758,\n",
       "       134.20886   , 132.80769661, 132.39329149, 134.53448829,\n",
       "       139.27989284, 144.84890525, 148.54268408, 148.36819903,\n",
       "       144.33621403, 138.55913551, 134.04985461, 132.97339257,\n",
       "       135.43838135, 139.52355082, 142.42455119, 141.95509553,\n",
       "       137.55217234, 130.38378268, 122.74160496, 117.19867358,\n",
       "       115.8956145 , 120.00996464, 129.30741881, 141.82779466,\n",
       "       154.0408726 , 161.84417842, 162.34127256, 155.63025471,\n",
       "       145.40894249, 137.58300389, 137.23111755, 145.53928364,\n",
       "       158.69612819, 169.75035885, 172.56030983, 165.46658125,\n",
       "       152.32799689, 140.19899417, 135.11874714, 138.70421272,\n",
       "       147.64080801, 156.19852331, 159.96558863, 158.38107556,\n",
       "       154.64438373, 153.35319822, 157.53427425, 166.83509532,\n",
       "       177.69530699, 185.09575323, 184.75592266, 174.6935877 ])"
      ]
     },
     "execution_count": 8,
     "metadata": {},
     "output_type": "execute_result"
    }
   ],
   "source": [
    "# 预测销售额\n",
    "y_pred, sigma = gp.predict(X_test, return_std=True)\n",
    "y_pred"
   ]
  },
  {
   "cell_type": "code",
   "execution_count": 9,
   "metadata": {},
   "outputs": [
    {
     "data": {
      "text/plain": [
       "array([1.00022206e-05, 2.31708056e+00, 2.28643000e+00, 7.57081604e-01,\n",
       "       9.32610098e-01, 1.65249498e+00, 1.07231419e+00, 2.32979053e-01,\n",
       "       1.24781455e+00, 1.24739390e+00, 2.94693600e-01, 8.43216206e-01,\n",
       "       1.29044023e+00, 7.23838873e-01, 3.94559315e-01, 1.18608587e+00,\n",
       "       1.03887717e+00, 7.87763691e-02, 9.35286614e-01, 1.20786927e+00,\n",
       "       5.29184776e-01, 5.63189722e-01, 1.20869763e+00, 9.00601425e-01,\n",
       "       1.16436239e-01, 1.04013291e+00, 1.14285380e+00, 3.44529673e-01,\n",
       "       7.24820706e-01, 1.22200593e+00, 7.55330804e-01, 3.06827982e-01,\n",
       "       1.12669522e+00, 1.05777838e+00, 1.54609682e-01, 8.70370833e-01,\n",
       "       1.20874894e+00, 5.93709571e-01, 4.89573121e-01, 1.18664225e+00,\n",
       "       9.47704678e-01, 3.87404401e-02, 9.94601658e-01, 1.16593006e+00,\n",
       "       4.17601625e-01, 6.60111015e-01, 1.21713376e+00, 8.14105318e-01,\n",
       "       2.31069783e-01, 1.09397910e+00, 1.09397910e+00, 2.31069783e-01,\n",
       "       8.14105318e-01, 1.21713376e+00, 6.60111015e-01, 4.17601625e-01,\n",
       "       1.16593006e+00, 9.94601658e-01, 3.87404401e-02, 9.47704678e-01,\n",
       "       1.18664225e+00, 4.89573121e-01, 5.93709571e-01, 1.20874894e+00,\n",
       "       8.70370833e-01, 1.54609682e-01, 1.05777838e+00, 1.12669522e+00,\n",
       "       3.06827982e-01, 7.55330804e-01, 1.22200593e+00, 7.24820706e-01,\n",
       "       3.44529673e-01, 1.14285380e+00, 1.04013291e+00, 1.16436239e-01,\n",
       "       9.00601425e-01, 1.20869763e+00, 5.63189722e-01, 5.29184776e-01,\n",
       "       1.20786927e+00, 9.35286614e-01, 7.87763691e-02, 1.03887717e+00,\n",
       "       1.18608587e+00, 3.94559315e-01, 7.23838873e-01, 1.29044023e+00,\n",
       "       8.43216206e-01, 2.94693600e-01, 1.24739390e+00, 1.24781455e+00,\n",
       "       2.32979053e-01, 1.07231419e+00, 1.65249498e+00, 9.32610098e-01,\n",
       "       7.57081604e-01, 2.28643000e+00, 2.31708056e+00, 9.99653592e-06])"
      ]
     },
     "execution_count": 9,
     "metadata": {},
     "output_type": "execute_result"
    }
   ],
   "source": [
    "sigma"
   ]
  },
  {
   "cell_type": "code",
   "execution_count": 14,
   "metadata": {},
   "outputs": [
    {
     "data": {
      "image/png": "[encoded data removed]",
      "text/plain": [
       "<Figure size 720x432 with 1 Axes>"
      ]
     },
     "metadata": {
      "needs_background": "light"
     },
     "output_type": "display_data"
    }
   ],
   "source": [
    "# 绘制拟合曲线和不确定性\n",
    "plt.figure(figsize=(10, 6))\n",
    "plt.scatter(X, y, c='b', label='real_data')\n",
    "plt.plot(X_test, y_pred, 'r', label='liner')\n",
    "plt.fill_between(X_test.flatten(), (y_pred - 1.96 * sigma), (y_pred + 1.96 * sigma), alpha=0.3, color='darkorange', label='95% confidence interval')\n",
    "plt.xlabel('days')\n",
    "plt.ylabel('sale')\n",
    "plt.title('GaussianProcessRegressor')\n",
    "plt.legend()\n",
    "plt.show()"
   ]
  },
  {
   "cell_type": "code",
   "execution_count": null,
   "metadata": {},
   "outputs": [],
   "source": []
  }
 ],
 "metadata": {
  "kernelspec": {
   "display_name": "base",
   "language": "python",
   "name": "python3"
  },
  "language_info": {
   "codemirror_mode": {
    "name": "ipython",
    "version": 3
   },
   "file_extension": ".py",
   "mimetype": "text/x-python",
   "name": "python",
   "nbconvert_exporter": "python",
   "pygments_lexer": "ipython3",
   "version": "3.8.5"
  }
 },
 "nbformat": 4,
 "nbformat_minor": 2
}
